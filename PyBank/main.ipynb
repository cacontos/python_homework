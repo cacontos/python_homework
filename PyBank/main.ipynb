{
 "cells": [
  {
   "cell_type": "code",
   "execution_count": 3,
   "id": "1b27f526-bab5-410a-a986-02c9c413ad2c",
   "metadata": {},
   "outputs": [
    {
     "name": "stdout",
     "output_type": "stream",
     "text": [
      "Financial Analysis\n",
      "----------------------------\n",
      "Total Months: 86\n",
      "Total: $38382578\n",
      "Average Change: $-2315.12\n",
      "Greatest Increase in Profits: Feb-2012 ($1926159)\n",
      "Greatest Decrease in Profits: Sep-2013 ($-2196167)\n",
      "\n"
     ]
    }
   ],
   "source": [
    "# Establishing the Path to the CSV file\n",
    "from pathlib import Path\n",
    "import csv\n",
    "\n",
    "# Initialzing the variables\n",
    "analysis = []\n",
    "previous_amount = 0\n",
    "total_months = 0\n",
    "total_amount = 0\n",
    "total_delta = 0\n",
    "max_profit_month = []\n",
    "max_profit_amount = 0\n",
    "max_loss_month = []\n",
    "max_loss_amount = 0\n",
    "current_delta = 0\n",
    "\n",
    "# Imporing the CSV file\n",
    "csvpath = Path('Resources/budget_data.csv')\n",
    "with open(csvpath, 'r') as csvfile:\n",
    "    csvreader = csv.reader(csvfile, delimiter=',')\n",
    "    next(csvreader) # Skips the header row\n",
    "    \n",
    "    # For each row, extract the values needed for the analysis\n",
    "    for row in csvreader:\n",
    "        amount = int(row[1])\n",
    "        if previous_amount != 0:\n",
    "            current_delta = amount - previous_amount\n",
    "            total_delta = total_delta + current_delta\n",
    "        total_amount = total_amount + amount\n",
    "       \n",
    "        # Add the total months for the two required \"average\" calculations\n",
    "        total_months = total_months + 1\n",
    "        # Compare this row with the current \"champion\" of profit and loss records\n",
    "        if current_delta > max_profit_amount:\n",
    "            max_profit_month = row[0]\n",
    "            max_profit_amount = current_delta\n",
    "        elif current_delta < max_loss_amount:\n",
    "            max_loss_month = row[0]\n",
    "            max_loss_amount = current_delta\n",
    "        previous_amount = amount\n",
    "        \n",
    "# Create analysis text\n",
    "analysis = (\n",
    "    f'Financial Analysis\\n'\n",
    "    f'----------------------------\\n'\n",
    "    f'Total Months: {total_months}\\n'\n",
    "    f'Total: ${total_amount}\\n'\n",
    "    f'Average Change: ${round(total_delta / (total_months - 1), 2)}\\n'\n",
    "    f'Greatest Increase in Profits: {max_profit_month} (${max_profit_amount})\\n'\n",
    "    f'Greatest Decrease in Profits: {max_loss_month} (${max_loss_amount})\\n'\n",
    ")\n",
    "\n",
    "# Print analysis to console\n",
    "print(analysis)\n",
    "\n",
    "# Create new text file called \"analysis.txt\" with the analysis content\n",
    "analysis_path = Path('output_new.txt')\n",
    "with open(analysis_path, 'w') as file:\n",
    "    file.write(analysis)\n",
    "    \n",
    "\n",
    "\n",
    " \n",
    " \n",
    " "
   ]
  },
  {
   "cell_type": "code",
   "execution_count": null,
   "id": "91fbf2fd-8fbf-4054-8436-4beaf23723dd",
   "metadata": {},
   "outputs": [],
   "source": []
  },
  {
   "cell_type": "code",
   "execution_count": null,
   "id": "c2bc4a60-6502-4de0-870a-86a2249ede74",
   "metadata": {},
   "outputs": [],
   "source": []
  },
  {
   "cell_type": "code",
   "execution_count": null,
   "id": "bbf3605f-0bc5-4d12-b780-9908fdaa3a1f",
   "metadata": {},
   "outputs": [],
   "source": []
  },
  {
   "cell_type": "code",
   "execution_count": null,
   "id": "d8ae6c50-7e3c-4f76-b7a6-04298c14b3df",
   "metadata": {},
   "outputs": [],
   "source": []
  }
 ],
 "metadata": {
  "kernelspec": {
   "display_name": "Python 3 (ipykernel)",
   "language": "python",
   "name": "python3"
  },
  "language_info": {
   "codemirror_mode": {
    "name": "ipython",
    "version": 3
   },
   "file_extension": ".py",
   "mimetype": "text/x-python",
   "name": "python",
   "nbconvert_exporter": "python",
   "pygments_lexer": "ipython3",
   "version": "3.9.7"
  }
 },
 "nbformat": 4,
 "nbformat_minor": 5
}
