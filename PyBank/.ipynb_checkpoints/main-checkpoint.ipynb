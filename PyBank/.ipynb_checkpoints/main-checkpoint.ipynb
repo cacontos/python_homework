{
 "cells": [
  {
   "cell_type": "code",
   "execution_count": 1,
   "id": "1b27f526-bab5-410a-a986-02c9c413ad2c",
   "metadata": {},
   "outputs": [
    {
     "name": "stdout",
     "output_type": "stream",
     "text": [
      "```text\n",
      "Financial Analysis\n",
      "-------------------------\n",
      "Total Months: 86\n",
      "Total: $38382578\n",
      "Average Change: $446309.05\n",
      "Greatest Increase in Profits: $(1170593)\n",
      "Greatest Decrease in Profits: $(-1196225)\n"
     ]
    }
   ],
   "source": [
    "from pathlib import Path\n",
    "import csv\n",
    "csvpath = Path('/Users/Fintech/desktop/uofm-virt-fin-pt-12-2021-u-c/02-Homework/02-Python/Instructions/Pybank/Resources/budget_data.csv')\n",
    "\n",
    "profit_loss = []\n",
    "\n",
    "line_num = 0\n",
    "\n",
    "with open(csvpath, 'r') as csvfile:\n",
    "        csvreader = csv.reader(csvfile, delimiter =',')\n",
    "        header = next(csvreader)    \n",
    "        line_num += 1\n",
    "        #print(f\"(Header)\")\n",
    "        for row in csvreader:\n",
    "            #print(row)\n",
    "            \n",
    "            profit_losses = int(row[1])\n",
    "            profit_loss.append(profit_losses)\n",
    "#print(profit_loss)\n",
    "\n",
    "#print(f\"Total Months:\", len(profit_loss))\n",
    "\n",
    "count = 0\n",
    "total = 0\n",
    "average = 0\n",
    "minimum = 0\n",
    "maximum = 0\n",
    "\n",
    "profitable_months = []\n",
    "unprofitable_months = []\n",
    "\n",
    "for month_pnl in profit_loss:\n",
    "    total += month_pnl\n",
    "    count += 1\n",
    "    if minimum == 0:\n",
    "        minimum = month_pnl\n",
    "    elif month_pnl < minimum:\n",
    "        minimum = month_pnl\n",
    "    elif month_pnl > maximum:\n",
    "        maximum = month_pnl\n",
    "    #if month_pnl > 0:\n",
    "        #profitable_months.append(month_pnl)\n",
    "    #elif month_pnl <= 0:\n",
    "        #unprofitable_month.append(month_pnl)\n",
    "        \n",
    "average = round(total / count, 2)\n",
    "\n",
    "\n",
    "print(\"```text\")\n",
    "print(\"Financial Analysis\")\n",
    "print(\"-------------------------\")\n",
    "print(f\"Total Months: {count}\")\n",
    "print(f\"Total: ${total}\")\n",
    "print(f\"Average Change: ${average}\")\n",
    "print(f\"Greatest Increase in Profits: $({maximum})\")\n",
    "print(f\"Greatest Decrease in Profits: $({minimum})\")\n",
    "        \n",
    "output_path = \"output.txt\"\n",
    "\n",
    "with open(output_path, 'w') as file:\n",
    "    file.write(f\"Total Months: {count}\\n\")\n",
    "    file.write(f\"Average Change: ${average}\\n\")\n",
    "    file.write(f\"Greatest Increase in Profits: ${maximum}\\n\")\n",
    "    file.write(f\"Greatest Increase in Profits: ${maximum}\\n\")\n",
    "    file.write(f\"Greatest Decrease in Profits: ${minimum}\\n\")        \n",
    "        \n",
    "        \n",
    "        \n",
    "        \n",
    "        \n",
    "        \n",
    "        \n",
    "        \n",
    "        "
   ]
  },
  {
   "cell_type": "code",
   "execution_count": null,
   "id": "91fbf2fd-8fbf-4054-8436-4beaf23723dd",
   "metadata": {},
   "outputs": [],
   "source": []
  },
  {
   "cell_type": "code",
   "execution_count": null,
   "id": "c2bc4a60-6502-4de0-870a-86a2249ede74",
   "metadata": {},
   "outputs": [],
   "source": []
  }
 ],
 "metadata": {
  "kernelspec": {
   "display_name": "Python 3 (ipykernel)",
   "language": "python",
   "name": "python3"
  },
  "language_info": {
   "codemirror_mode": {
    "name": "ipython",
    "version": 3
   },
   "file_extension": ".py",
   "mimetype": "text/x-python",
   "name": "python",
   "nbconvert_exporter": "python",
   "pygments_lexer": "ipython3",
   "version": "3.9.7"
  }
 },
 "nbformat": 4,
 "nbformat_minor": 5
}
